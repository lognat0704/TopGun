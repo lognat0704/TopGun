{
 "cells": [
  {
   "cell_type": "markdown",
   "metadata": {},
   "source": [
    "# Pandas Extra functions\n",
    "> Extra pandas functions at import"
   ]
  },
  {
   "cell_type": "code",
   "execution_count": 1,
   "metadata": {},
   "outputs": [],
   "source": [
    "from typing import Callable\n",
    "#from forgebox.imports import *\n",
    "#from .widgets import search_box, paginate"
   ]
  },
  {
   "cell_type": "code",
   "execution_count": 2,
   "metadata": {},
   "outputs": [],
   "source": [
    "import pandas as pd\n",
    "from typing import Callable\n",
    "import numpy as np\n",
    "\n",
    "def display_df(df): display(df)\n",
    "    \n",
    "def list_vc(\n",
    "    df, colname: str, value: str\n",
    ") -> pd.DataFrame:\n",
    "    \"\"\"\n",
    "    count the values in a column\n",
    "        that each cell is a list\n",
    "    \"\"\"\n",
    "    return df[colname].list_vc(value)\n",
    "\n",
    "def col_list_vc(\n",
    "    col, value: str\n",
    ") -> pd.DataFrame:\n",
    "    \"\"\"\n",
    "    count the values in a column\n",
    "        that each cell is a list\n",
    "    \"\"\"\n",
    "    return pd.DataFrame(\n",
    "        col.apply(lambda x: value in x).value_counts()\n",
    "    )\n",
    "\n",
    "pd.DataFrame.vc = lambda self,col:pd.DataFrame(self[col].value_counts())\n",
    "pd.Series.list_vc = col_list_vc\n",
    "pd.DataFrame.list_vc = list_vc\n",
    "\n",
    "def split(df, valid=0.2, ensure_factor=2):\n",
    "    \"\"\"\n",
    "    df: dataframe\n",
    "    valid: valid ratio, default 0.1\n",
    "    ensure_factor, ensuring the row number to be the multiplication of this factor, default 2\n",
    "    return train_df, valid_df\n",
    "    \"\"\"\n",
    "    split_ = (np.random.rand(len(df)) > valid)\n",
    "    train_df = df[split_].sample(frac=1.).reset_index().drop(\"index\", axis=1)\n",
    "    valid_df = df[~split_].sample(frac=1.).reset_index().drop(\"index\", axis=1)\n",
    "\n",
    "    if ensure_factor:\n",
    "        train_mod = len(train_df) % ensure_factor\n",
    "        valid_mod = len(valid_df) % ensure_factor\n",
    "        if train_mod: train_df = train_df[:-train_mod]\n",
    "        if valid_mod: valid_df = valid_df[:-valid_mod]\n",
    "    return train_df, valid_df\n",
    "\n",
    "pd.DataFrame.split = split\n",
    "\n",
    "\n",
    "def default_rename_rule(x: str) -> str:\n",
    "    return x.replace(\" \", \"_\").replace(\"-\", \"_\").lower()\n",
    "\n",
    "\n",
    "def rename_by_rule(\n",
    "    df,\n",
    "    rule: Callable = default_rename_rule\n",
    ") -> pd.DataFrame:\n",
    "    \"\"\"\n",
    "    rename the columns by a rule function\n",
    "    \"\"\"\n",
    "    df = df.rename(\n",
    "        columns=dict((c, rule(c)) for c in df.columns))\n",
    "    return df\n",
    "\n",
    "pd.DataFrame.rename_by_rule = rename_by_rule\n",
    "\n",
    "\n",
    "def column_order(df, *col_names) -> pd.DataFrame:\n",
    "    \"\"\"\n",
    "    df = df.column_order(\"col1\", \"col2\", \"col3\")\n",
    "    will put col1, col2, and col3 as the 1st 3 column\n",
    "    \"\"\"\n",
    "    cols = list(df.columns)\n",
    "\n",
    "    for col_name in list(col_names)[::-1]:\n",
    "\n",
    "        # warn if the column exist\n",
    "        if col_name not in cols:\n",
    "            print(f\"Column:'{col_name}' not in dataframe\")\n",
    "            continue\n",
    "        cols.insert(0, cols.pop(cols.index(col_name)))\n",
    "    return df[cols]\n",
    "\n",
    "pd.DataFrame.column_order = column_order"
   ]
  },
  {
   "cell_type": "code",
   "execution_count": 3,
   "metadata": {},
   "outputs": [],
   "source": [
    "\n",
    "def search_box(df, columns, manual=False, max_rows=10, callback=display_df):\n",
    "    \"\"\"\n",
    "    create a search box based on dataframe\n",
    "    df: pandas dataframe\n",
    "    columns: str, dataframe field name\n",
    "    manual: bool, search the dataframe on when click the button(manual=True),\n",
    "        or on keypress reaction to inputbox (manual=False), default False\n",
    "    max_rows:int, max rows of show result, default 10\n",
    "    callback: python callable, discribe the action you want to put on\n",
    "        search result (a filtered dataframe), default is to display the dataframe\n",
    "    \"\"\"\n",
    "    from ipywidgets import interact, interact_manual\n",
    "    from IPython.display import HTML\n",
    "\n",
    "    intera = interact_manual if manual else interact\n",
    "\n",
    "    @intera\n",
    "    def search(KeyWord=\"\",):\n",
    "        for col in columns:\n",
    "            result = df[col].fillna(\"NaN Value\").str.contains(KeyWord)\n",
    "            if sum(result) > 0:\n",
    "                with PandasDisplay(max_colwidth=0, max_rows=max_rows):\n",
    "                    display(\n",
    "                        HTML(f\"<h3>\\\"{KeyWord}\\\" matched on column:[{col}]</h3>\"))\n",
    "                    callback(df[result].head(max_rows))\n",
    "                    return\n",
    "        print(f\"Nothing found on any column on keyword:{KeyWord}\")\n",
    "        return\n",
    "\n",
    "\n"
   ]
  },
  {
   "cell_type": "code",
   "execution_count": 4,
   "metadata": {},
   "outputs": [],
   "source": [
    "def paginate(df, page_len=20):\n",
    "    \"\"\"\n",
    "    Paginate dataframe in jupyter notebook interactively\n",
    "    Like you can flip through the page\n",
    "    \"\"\"\n",
    "    from ipywidgets import interact, interact_manual\n",
    "    from IPython.display import display, HTML\n",
    "    pages = len(df)//page_len\n",
    "\n",
    "    @interact\n",
    "    def preview(page=(0, pages)):\n",
    "        display(HTML(f\"<h4>page:{page}/{pages}</4>\"))\n",
    "        end = (page+1)*page_len\n",
    "        display(df.head(end).tail(page_len))"
   ]
  },
  {
   "cell_type": "code",
   "execution_count": null,
   "metadata": {},
   "outputs": [],
   "source": []
  },
  {
   "cell_type": "markdown",
   "metadata": {},
   "source": [
    "### Testing"
   ]
  },
  {
   "cell_type": "code",
   "execution_count": 5,
   "metadata": {},
   "outputs": [],
   "source": [
    "from sklearn.datasets import _california_housing\n",
    "cdata = _california_housing.fetch_california_housing()\n",
    "df = pd.DataFrame(cdata[\"data\"], columns=cdata[\"feature_names\"])"
   ]
  },
  {
   "cell_type": "markdown",
   "metadata": {},
   "source": [
    "## Value Counts"
   ]
  },
  {
   "cell_type": "code",
   "execution_count": 6,
   "metadata": {},
   "outputs": [
    {
     "data": {
      "text/html": [
       "<div>\n",
       "<style scoped>\n",
       "    .dataframe tbody tr th:only-of-type {\n",
       "        vertical-align: middle;\n",
       "    }\n",
       "\n",
       "    .dataframe tbody tr th {\n",
       "        vertical-align: top;\n",
       "    }\n",
       "\n",
       "    .dataframe thead th {\n",
       "        text-align: right;\n",
       "    }\n",
       "</style>\n",
       "<table border=\"1\" class=\"dataframe\">\n",
       "  <thead>\n",
       "    <tr style=\"text-align: right;\">\n",
       "      <th></th>\n",
       "      <th>is_old</th>\n",
       "    </tr>\n",
       "  </thead>\n",
       "  <tbody>\n",
       "    <tr>\n",
       "      <th>True</th>\n",
       "      <td>14347</td>\n",
       "    </tr>\n",
       "    <tr>\n",
       "      <th>False</th>\n",
       "      <td>6293</td>\n",
       "    </tr>\n",
       "  </tbody>\n",
       "</table>\n",
       "</div>"
      ],
      "text/plain": [
       "       is_old\n",
       "True    14347\n",
       "False    6293"
      ]
     },
     "execution_count": 6,
     "metadata": {},
     "output_type": "execute_result"
    }
   ],
   "source": [
    "df[\"is_old\"] = df.HouseAge>20\n",
    "df.vc(\"is_old\")"
   ]
  },
  {
   "cell_type": "markdown",
   "metadata": {},
   "source": [
    "## Rename columns"
   ]
  },
  {
   "cell_type": "code",
   "execution_count": 7,
   "metadata": {},
   "outputs": [
    {
     "data": {
      "text/plain": [
       "Index(['MedInc', 'HouseAge', 'AveRooms', 'AveBedrms', 'Population', 'AveOccup',\n",
       "       'Latitude', 'Longitude', 'is_old'],\n",
       "      dtype='object')"
      ]
     },
     "execution_count": 7,
     "metadata": {},
     "output_type": "execute_result"
    }
   ],
   "source": [
    "df.columns"
   ]
  },
  {
   "cell_type": "code",
   "execution_count": 8,
   "metadata": {},
   "outputs": [
    {
     "name": "stdout",
     "output_type": "stream",
     "text": [
      "['medinc', 'houseage', 'averooms', 'avebedrms', 'population', 'aveoccup', 'latitude', 'longitude', 'is_old']\n"
     ]
    }
   ],
   "source": [
    "print(list(df.rename_by_rule().columns))"
   ]
  },
  {
   "cell_type": "code",
   "execution_count": 9,
   "metadata": {},
   "outputs": [
    {
     "name": "stdout",
     "output_type": "stream",
     "text": [
      "['is_old', 'AveOccup', 'MedInc', 'HouseAge', 'AveRooms', 'AveBedrms', 'Population', 'Latitude', 'Longitude']\n"
     ]
    }
   ],
   "source": [
    "print(list(df.column_order(\"is_old\",\"AveOccup\").columns))"
   ]
  },
  {
   "cell_type": "markdown",
   "metadata": {},
   "source": [
    "## Paginate"
   ]
  },
  {
   "cell_type": "code",
   "execution_count": 10,
   "metadata": {},
   "outputs": [],
   "source": [
    "pd.DataFrame.paginate = paginate"
   ]
  },
  {
   "cell_type": "code",
   "execution_count": 11,
   "metadata": {
    "scrolled": true
   },
   "outputs": [
    {
     "data": {
      "application/vnd.jupyter.widget-view+json": {
       "model_id": "074b5bfcf01547b295c30cda0384c50c",
       "version_major": 2,
       "version_minor": 0
      },
      "text/plain": [
       "interactive(children=(IntSlider(value=516, description='page', max=1032), Output()), _dom_classes=('widget-int…"
      ]
     },
     "metadata": {},
     "output_type": "display_data"
    }
   ],
   "source": [
    "df.paginate()"
   ]
  },
  {
   "cell_type": "code",
   "execution_count": null,
   "metadata": {},
   "outputs": [],
   "source": []
  },
  {
   "cell_type": "code",
   "execution_count": null,
   "metadata": {},
   "outputs": [],
   "source": []
  }
 ],
 "metadata": {
  "kernelspec": {
   "display_name": "dsnet_py38",
   "language": "python",
   "name": "dsnet_py38"
  },
  "language_info": {
   "codemirror_mode": {
    "name": "ipython",
    "version": 3
   },
   "file_extension": ".py",
   "mimetype": "text/x-python",
   "name": "python",
   "nbconvert_exporter": "python",
   "pygments_lexer": "ipython3",
   "version": "3.8.10"
  },
  "toc": {
   "base_numbering": 1,
   "nav_menu": {},
   "number_sections": true,
   "sideBar": true,
   "skip_h1_title": false,
   "title_cell": "Table of Contents",
   "title_sidebar": "Contents",
   "toc_cell": false,
   "toc_position": {},
   "toc_section_display": true,
   "toc_window_display": false
  }
 },
 "nbformat": 4,
 "nbformat_minor": 4
}
