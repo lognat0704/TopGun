{
  "nbformat": 4,
  "nbformat_minor": 0,
  "metadata": {
    "colab": {
      "name": "7_Pytorch_tips.ipynb",
      "provenance": [],
      "authorship_tag": "ABX9TyP0wslmmxyMNC9d0Jsi9uDx",
      "include_colab_link": true
    },
    "kernelspec": {
      "name": "python3",
      "display_name": "Python 3"
    },
    "language_info": {
      "name": "python"
    },
    "accelerator": "GPU"
  },
  "cells": [
    {
      "cell_type": "markdown",
      "metadata": {
        "id": "view-in-github",
        "colab_type": "text"
      },
      "source": [
        "<a href=\"https://colab.research.google.com/github/lognat0704/TopGun/blob/main/7_Pytorch_tips.ipynb\" target=\"_parent\"><img src=\"https://colab.research.google.com/assets/colab-badge.svg\" alt=\"Open In Colab\"/></a>"
      ]
    },
    {
      "cell_type": "code",
      "execution_count": 1,
      "metadata": {
        "id": "cTbkLCwyPiNY"
      },
      "outputs": [],
      "source": [
        "import time\n",
        "import torch \n",
        "from torch import nn"
      ]
    },
    {
      "cell_type": "code",
      "source": [
        "start_time = time.time()\n",
        "for _ in range(100):\n",
        "  cpu_tensor = torch.ones((1000,64,64))\n",
        "  gpu_tensor = cpu_tensor.cuda()\n",
        "\n",
        "print('Total time: {:.3f}s'.format(time.time()-start_time))"
      ],
      "metadata": {
        "colab": {
          "base_uri": "https://localhost:8080/"
        },
        "id": "0Wj1nSx9PliZ",
        "outputId": "362ea53d-dd35-48c6-b298-0cd232c59fc6"
      },
      "execution_count": 2,
      "outputs": [
        {
          "output_type": "stream",
          "name": "stdout",
          "text": [
            "Total time: 12.935s\n"
          ]
        }
      ]
    },
    {
      "cell_type": "code",
      "source": [
        ""
      ],
      "metadata": {
        "id": "tg7UoXBdPl5U"
      },
      "execution_count": null,
      "outputs": []
    }
  ]
}